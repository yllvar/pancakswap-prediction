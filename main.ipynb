from constants import SCAN_OPPORTUNITIES
from func_trade import make_predictions
from func_write import claim_winnings
import time

if SCAN_OPPORTUNITIES:
    claim_winnings()
    make_predictions()
